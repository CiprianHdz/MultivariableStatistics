{
 "cells": [
  {
   "cell_type": "markdown",
   "metadata": {
    "slideshow": {
     "slide_type": "slide"
    }
   },
   "source": [
    "1) \n",
    "\n",
    "a) Genere una secuencia de números del 20 al 50\n",
    "b) Encuentra la media de la secuencia del 20 al 60\n",
    "c) Encuentra la suma de la secuencia 51 al 91\n"
   ]
  },
  {
   "cell_type": "code",
   "execution_count": 21,
   "metadata": {
    "collapsed": true,
    "slideshow": {
     "slide_type": "subslide"
    }
   },
   "outputs": [
    {
     "name": "stdout",
     "output_type": "stream",
     "text": [
      "[1] \"Sequence of numbers from 20 to 50:\"\n",
      " [1] 20 21 22 23 24 25 26 27 28 29 30 31 32 33 34 35 36 37 38 39 40 41 42 43 44\n",
      "[26] 45 46 47 48 49 50\n",
      "[1] \"Mean of numbers from 20 to 60:\"\n",
      "[1] 40\n",
      "[1] \"Sum of numbers from 51 to 91:\"\n",
      "[1] 2911\n"
     ]
    }
   ],
   "source": [
    "print(\"Sequence of numbers from 20 to 50:\")\n",
    "print(seq(20,50))\n",
    "print(\"Mean of numbers from 20 to 60:\")\n",
    "print(mean(20:60))\n",
    "print(\"Sum of numbers from 51 to 91:\")\n",
    "print(sum(51:91))"
   ]
  },
  {
   "cell_type": "markdown",
   "metadata": {
    "slideshow": {
     "slide_type": "fragment"
    }
   },
   "source": [
    "2) Genere un vector que contenga diez enteros aleatorios entre -50 y 50"
   ]
  },
  {
   "cell_type": "code",
   "execution_count": 1,
   "metadata": {
    "collapsed": true,
    "slideshow": {
     "slide_type": "notes"
    }
   },
   "outputs": [
    {
     "name": "stdout",
     "output_type": "stream",
     "text": [
      "[1] \"Content of the vector:\"\n",
      "[1] \"10 random integer values between -50 and +50:\"\n",
      " [1]  27 -20  14  43  28  35  13   5  13 -31\n"
     ]
    }
   ],
   "source": [
    "v = sample(-50:50, 10, replace=TRUE)\n",
    "print(\"Content of the vector:\")\n",
    "print(\"10 random integer values between -50 and +50:\")\n",
    "print(v)"
   ]
  },
  {
   "cell_type": "markdown",
   "metadata": {
    "slideshow": {
     "slide_type": "slide"
    }
   },
   "source": [
    "3) Escriba un código que extraiga las primeras diez letras del alfabeto (inglés) en minusculas y las diez ultimas letras en mayusculas. También extraiga las letras 22-24 en mayusculas."
   ]
  },
  {
   "cell_type": "code",
   "execution_count": 2,
   "metadata": {
    "collapsed": true
   },
   "outputs": [
    {
     "name": "stdout",
     "output_type": "stream",
     "text": [
      "[1] \"First 10 letters in lower case:\"\n",
      " [1] \"a\" \"b\" \"c\" \"d\" \"e\" \"f\" \"g\" \"h\" \"i\" \"j\"\n",
      "[1] \"Last 10 letters in upper case:\"\n",
      " [1] \"Q\" \"R\" \"S\" \"T\" \"U\" \"V\" \"W\" \"X\" \"Y\" \"Z\"\n",
      "[1] \"Letters between 22nd to 24th letters in upper case:\"\n",
      "[1] \"V\" \"W\" \"X\"\n"
     ]
    }
   ],
   "source": [
    "print(\"First 10 letters in lower case:\")\n",
    "t = head(letters, 10)\n",
    "print(t)\n",
    "print(\"Last 10 letters in upper case:\")\n",
    "t = tail(LETTERS, 10)\n",
    "print(t)\n",
    "print(\"Letters between 22nd to 24th letters in upper case:\")\n",
    "e = tail(LETTERS[22:24])\n",
    "print(e)"
   ]
  },
  {
   "cell_type": "markdown",
   "metadata": {},
   "source": [
    "4) Escriba un código que encuentre el máximo y mínimo de un vector"
   ]
  },
  {
   "cell_type": "code",
   "execution_count": 3,
   "metadata": {},
   "outputs": [
    {
     "name": "stdout",
     "output_type": "stream",
     "text": [
      "[1] \"Original vector:\"\n",
      "[1] 10 20 30 40 50 60\n",
      "[1] \"Maximum value of the said vector: 60\"\n",
      "[1] \"Minimum value of the said vector: 10\"\n"
     ]
    }
   ],
   "source": [
    "nums = c(10, 20, 30, 40, 50, 60)\n",
    "print('Original vector:')\n",
    "print(nums)   \n",
    "print(paste(\"Maximum value of the said vector:\",max(nums)))\n",
    "print(paste(\"Minimum value of the said vector:\",min(nums)))"
   ]
  },
  {
   "cell_type": "markdown",
   "metadata": {},
   "source": [
    "5)  Genere tres vectores de longitud 3 compuestos de enteros. Combine los 3 vectores para crear una matriz de 3x3, donde cada columna represente al vector. Imprima los resultados"
   ]
  },
  {
   "cell_type": "code",
   "execution_count": 4,
   "metadata": {},
   "outputs": [
    {
     "name": "stdout",
     "output_type": "stream",
     "text": [
      "[1] \"Content of the said matrix:\"\n",
      "     a b c\n",
      "[1,] 1 4 7\n",
      "[2,] 2 5 8\n",
      "[3,] 3 6 9\n"
     ]
    }
   ],
   "source": [
    "a<-c(1,2,3)\n",
    "b<-c(4,5,6)\n",
    "c<-c(7,8,9)\n",
    "m<-cbind(a,b,c)\n",
    "print(\"Content of the said matrix:\")\n",
    "print(m)"
   ]
  },
  {
   "cell_type": "markdown",
   "metadata": {},
   "source": [
    "6) Escriba un codigo para leer el archivo movies.csv, guarde los nombres de las variables en una lista e imprimalos."
   ]
  },
  {
   "cell_type": "code",
   "execution_count": 1,
   "metadata": {},
   "outputs": [
    {
     "name": "stdout",
     "output_type": "stream",
     "text": [
      "[1] \"Content of the .csv file:\"\n"
     ]
    },
    {
     "data": {
      "text/html": [
       "<ol>\n",
       "\t<li><ol class=list-inline>\n",
       "\t<li>'adult'</li>\n",
       "\t<li>'belongs_to_collection'</li>\n",
       "\t<li>'budget'</li>\n",
       "\t<li>'genres'</li>\n",
       "\t<li>'homepage'</li>\n",
       "\t<li>'id'</li>\n",
       "\t<li>'imdb_id'</li>\n",
       "\t<li>'original_language'</li>\n",
       "\t<li>'original_title'</li>\n",
       "\t<li>'overview'</li>\n",
       "\t<li>'popularity'</li>\n",
       "\t<li>'poster_path'</li>\n",
       "\t<li>'production_companies'</li>\n",
       "\t<li>'production_countries'</li>\n",
       "\t<li>'release_date'</li>\n",
       "\t<li>'revenue'</li>\n",
       "\t<li>'runtime'</li>\n",
       "\t<li>'spoken_languages'</li>\n",
       "\t<li>'status'</li>\n",
       "\t<li>'tagline'</li>\n",
       "\t<li>'title'</li>\n",
       "\t<li>'video'</li>\n",
       "\t<li>'vote_average'</li>\n",
       "\t<li>'vote_count'</li>\n",
       "</ol>\n",
       "</li>\n",
       "</ol>\n"
      ],
      "text/latex": [
       "\\begin{enumerate}\n",
       "\\item \\begin{enumerate*}\n",
       "\\item 'adult'\n",
       "\\item 'belongs\\_to\\_collection'\n",
       "\\item 'budget'\n",
       "\\item 'genres'\n",
       "\\item 'homepage'\n",
       "\\item 'id'\n",
       "\\item 'imdb\\_id'\n",
       "\\item 'original\\_language'\n",
       "\\item 'original\\_title'\n",
       "\\item 'overview'\n",
       "\\item 'popularity'\n",
       "\\item 'poster\\_path'\n",
       "\\item 'production\\_companies'\n",
       "\\item 'production\\_countries'\n",
       "\\item 'release\\_date'\n",
       "\\item 'revenue'\n",
       "\\item 'runtime'\n",
       "\\item 'spoken\\_languages'\n",
       "\\item 'status'\n",
       "\\item 'tagline'\n",
       "\\item 'title'\n",
       "\\item 'video'\n",
       "\\item 'vote\\_average'\n",
       "\\item 'vote\\_count'\n",
       "\\end{enumerate*}\n",
       "\n",
       "\\end{enumerate}\n"
      ],
      "text/markdown": [
       "1. 1. 'adult'\n",
       "2. 'belongs_to_collection'\n",
       "3. 'budget'\n",
       "4. 'genres'\n",
       "5. 'homepage'\n",
       "6. 'id'\n",
       "7. 'imdb_id'\n",
       "8. 'original_language'\n",
       "9. 'original_title'\n",
       "10. 'overview'\n",
       "11. 'popularity'\n",
       "12. 'poster_path'\n",
       "13. 'production_companies'\n",
       "14. 'production_countries'\n",
       "15. 'release_date'\n",
       "16. 'revenue'\n",
       "17. 'runtime'\n",
       "18. 'spoken_languages'\n",
       "19. 'status'\n",
       "20. 'tagline'\n",
       "21. 'title'\n",
       "22. 'video'\n",
       "23. 'vote_average'\n",
       "24. 'vote_count'\n",
       "\n",
       "\n",
       "\n",
       "\n",
       "\n"
      ],
      "text/plain": [
       "[[1]]\n",
       " [1] \"adult\"                 \"belongs_to_collection\" \"budget\"               \n",
       " [4] \"genres\"                \"homepage\"              \"id\"                   \n",
       " [7] \"imdb_id\"               \"original_language\"     \"original_title\"       \n",
       "[10] \"overview\"              \"popularity\"            \"poster_path\"          \n",
       "[13] \"production_companies\"  \"production_countries\"  \"release_date\"         \n",
       "[16] \"revenue\"               \"runtime\"               \"spoken_languages\"     \n",
       "[19] \"status\"                \"tagline\"               \"title\"                \n",
       "[22] \"video\"                 \"vote_average\"          \"vote_count\"           \n"
      ]
     },
     "metadata": {},
     "output_type": "display_data"
    }
   ],
   "source": [
    "movie_data = read.csv(file=\"movies.csv\", header=TRUE, sep=\",\")\n",
    "print(\"Content of the .csv file:\")\n",
    "nombres <- list(names(data.frame(movie_data)))\n",
    "nombres"
   ]
  },
  {
   "cell_type": "markdown",
   "metadata": {},
   "source": [
    "7) Escriba un programa para crear una matrix de 5x4, una de 3x3 con etiquetas y llene la matriz por renglon y por columna."
   ]
  },
  {
   "cell_type": "code",
   "execution_count": 14,
   "metadata": {},
   "outputs": [
    {
     "name": "stdout",
     "output_type": "stream",
     "text": [
      "[1] \"5 × 4 matrix:\"\n",
      "     [,1] [,2] [,3] [,4]\n",
      "[1,]    1    6   11   16\n",
      "[2,]    2    7   12   17\n",
      "[3,]    3    8   13   18\n",
      "[4,]    4    9   14   19\n",
      "[5,]    5   10   15   20\n",
      "[1] \"3 × 3 matrix with labels, filled by rows: \"\n",
      "     Col1 Col2 Col3\n",
      "Row1    1    3    5\n",
      "Row2    7    8    9\n",
      "Row3   11   12   14\n",
      "[1] \"3 × 3 matrix with labels, filled by columns: \"\n",
      "     Col1 Col2 Col3\n",
      "Row1    1    7   11\n",
      "Row2    3    8   12\n",
      "Row3    5    9   14\n"
     ]
    }
   ],
   "source": [
    "m1 = matrix(1:20, nrow=5, ncol=4)\n",
    "print(\"5 × 4 matrix:\")\n",
    "print(m1)\n",
    "cells = c(1,3,5,7,8,9,11,12,14)\n",
    "rnames = c(\"Row1\", \"Row2\", \"Row3\")\n",
    "cnames = c(\"Col1\", \"Col2\", \"Col3\")\n",
    "m2 = matrix(cells, nrow=3, ncol=3, byrow=TRUE, dimnames=list(rnames, cnames))\n",
    "print(\"3 × 3 matrix with labels, filled by rows: \")\n",
    "print(m2)\n",
    "print(\"3 × 3 matrix with labels, filled by columns: \")\n",
    "m3 = matrix(cells, nrow=3, ncol=3, byrow=FALSE, dimnames=list(rnames, cnames))\n",
    "print(m3)"
   ]
  },
  {
   "cell_type": "markdown",
   "metadata": {},
   "source": [
    "8) Escribe un programa para crear un arreglo de 3 columnas, 3 renglones, y dos tablas. El arreglo debe tomar como entrada dos vectores. Imprime el arreglo"
   ]
  },
  {
   "cell_type": "code",
   "execution_count": 30,
   "metadata": {},
   "outputs": [
    {
     "name": "stdout",
     "output_type": "stream",
     "text": [
      ", , 1\n",
      "\n",
      "     [,1] [,2] [,3]\n",
      "[1,]    1    7    6\n",
      "[2,]    3    2    8\n",
      "[3,]    5    4   10\n",
      "\n",
      ", , 2\n",
      "\n",
      "     [,1] [,2] [,3]\n",
      "[1,]    1    7    6\n",
      "[2,]    3    2    8\n",
      "[3,]    5    4   10\n",
      "\n"
     ]
    }
   ],
   "source": [
    "v1 = c(1, 3, 5, 7)\n",
    "v2 = c(2, 4, 6, 8, 10)\n",
    "arra1 = array(c(v1, v2),dim = c(3,3,2))\n",
    "print(arra1)"
   ]
  },
  {
   "cell_type": "markdown",
   "metadata": {},
   "source": [
    "9) Escribe un programa para dibujar una grafica vacia y especifica los límites de los ejes a priori."
   ]
  },
  {
   "cell_type": "code",
   "execution_count": 31,
   "metadata": {},
   "outputs": [
    {
     "data": {
      "image/png": "[encoded data removed]",
      "text/plain": [
       "plot without title"
      ]
     },
     "metadata": {
      "image/png": {
       "height": 420,
       "width": 420
      }
     },
     "output_type": "display_data"
    }
   ],
   "source": [
    "#print(\"Empty plot:\")\n",
    "plot.new()\n",
    "#print(\"Empty plot specify the axes limits of the graphic:\")\n",
    "plot(1, type=\"n\", xlab=\"\", ylab=\"\", xlim=c(0, 20), ylim=c(0, 20))"
   ]
  },
  {
   "cell_type": "markdown",
   "metadata": {},
   "source": [
    "10) Escribe un programa para crear un gráfica de barras de cinco categorías.\n"
   ]
  },
  {
   "cell_type": "code",
   "execution_count": 15,
   "metadata": {},
   "outputs": [
    {
     "data": {
      "image/png": "[encoded data removed]",
      "text/plain": [
       "Plot with title \"Comparing marks of 5 subjects\""
      ]
     },
     "metadata": {},
     "output_type": "display_data"
    }
   ],
   "source": [
    "marks = c(70, 95, 80, 74)\n",
    "barplot(marks,\n",
    "main = \"Comparing marks of 5 subjects\",\n",
    "xlab = \"Marks\",\n",
    "ylab = \"Subject\",\n",
    "names.arg = c(\"English\", \"Science\", \"Math.\", \"Hist.\"),\n",
    "col = \"darkred\",\n",
    "horiz = FALSE)"
   ]
  },
  {
   "cell_type": "markdown",
   "metadata": {},
   "source": [
    " 11) Escribe un código para crear una lista con datos heterogeneos que incluyan elementos del tipo *character*, *numeric* y *logical*."
   ]
  },
  {
   "cell_type": "code",
   "execution_count": 16,
   "metadata": {},
   "outputs": [
    {
     "name": "stdout",
     "output_type": "stream",
     "text": [
      "$Chr\n",
      "[1] \"Python\"\n",
      "\n",
      "$nums\n",
      " [1]  1  2  3  4  5  6  7  8  9 10 11 12 13 14 15\n",
      "\n",
      "$flag\n",
      "[1] TRUE\n",
      "\n"
     ]
    }
   ],
   "source": [
    "my_list = list(Chr=\"Python\", nums = 1:15, flag=TRUE)\n",
    "print(my_list)"
   ]
  },
  {
   "cell_type": "markdown",
   "metadata": {},
   "source": [
    "12)  Convierte una matriz en un arreglo unidimensional"
   ]
  },
  {
   "cell_type": "code",
   "execution_count": 17,
   "metadata": {},
   "outputs": [
    {
     "name": "stdout",
     "output_type": "stream",
     "text": [
      "[1] \"Original matrix:\"\n",
      "     [,1] [,2] [,3] [,4]\n",
      "[1,]    1    4    7   10\n",
      "[2,]    2    5    8   11\n",
      "[3,]    3    6    9   12\n",
      "[1] \"1 dimensional array:\"\n",
      " [1]  1  2  3  4  5  6  7  8  9 10 11 12\n"
     ]
    }
   ],
   "source": [
    "m=matrix(1:12,3,4)\n",
    "print(\"Original matrix:\")\n",
    "print(m)\n",
    "a = as.vector(m)\n",
    "print(\"1 dimensional array:\")\n",
    "print(a)"
   ]
  },
  {
   "cell_type": "markdown",
   "metadata": {},
   "source": [
    "13) Crea un arreglo de dos matrices de 3x3 dado dos vectores unidimensionales arbitrarios. Imprime el segundo renglón de la segunda matriz del arreglo y el elemento del tercer renglón y tercera columna de la primera matriz."
   ]
  },
  {
   "cell_type": "code",
   "execution_count": 18,
   "metadata": {},
   "outputs": [
    {
     "name": "stdout",
     "output_type": "stream",
     "text": [
      "[1] \"Two vectors of different lengths:\"\n",
      "[1] 1 3 4 5\n",
      "[1] 10 11 12 13 14 15\n",
      "[1] \"New array:\"\n",
      ", , 1\n",
      "\n",
      "     [,1] [,2] [,3]\n",
      "[1,]    1    5   12\n",
      "[2,]    3   10   13\n",
      "[3,]    4   11   14\n",
      "\n",
      ", , 2\n",
      "\n",
      "     [,1] [,2] [,3]\n",
      "[1,]   15    4   11\n",
      "[2,]    1    5   12\n",
      "[3,]    3   10   13\n",
      "\n",
      "[1] \"The second row of the second matrix of the array:\"\n",
      "[1]  1  5 12\n",
      "[1] \"The element in the 3rd row and 3rd column of the 1st matrix:\"\n",
      "[1] 14\n"
     ]
    }
   ],
   "source": [
    "print(\"Two vectors of different lengths:\")\n",
    "v1 =  c(1,3,4,5)\n",
    "v2 =  c(10,11,12,13,14,15)\n",
    "print(v1)\n",
    "print(v2)\n",
    "result = array(c(v1,v2),dim = c(3,3,2))\n",
    "print(\"New array:\")\n",
    "print(result)\n",
    "print(\"The second row of the second matrix of the array:\")\n",
    "print(result[2,,2])\n",
    "print(\"The element in the 3rd row and 3rd column of the 1st matrix:\")\n",
    "print(result[3,3,1])"
   ]
  },
  {
   "cell_type": "markdown",
   "metadata": {},
   "source": [
    "14) Genera un data frame compuesto de la información de un examen para 10 alumnos:\n",
    "\n",
    "* Nombre\n",
    "* Calificación\n",
    "* Número de veces que ha presentado el examen\n",
    "* Aprobado o no\n",
    "\n",
    "a) Imprima el renglón 3 y 5 con la información de la primera y tercer columna.\n",
    "\n",
    "b) Añada dos nuevos renglones con la información de dos alumnos\n",
    "\n",
    "c) Guarde la información de la hoja de datos en un archivo y despliegue la información del archivo.\n"
   ]
  },
  {
   "cell_type": "code",
   "execution_count": 24,
   "metadata": {},
   "outputs": [
    {
     "name": "stdout",
     "output_type": "stream",
     "text": [
      "[1] \"Original dataframe:\"\n",
      "        name score attempts qualify\n",
      "1  Anastasia  12.5        1     yes\n",
      "2       Dima   9.0        3      no\n",
      "3  Katherine  16.5        2     yes\n",
      "4      James  12.0        3      no\n",
      "5      Emily   9.0        2      no\n",
      "6    Michael  20.0        3     yes\n",
      "7    Matthew  14.5        1     yes\n",
      "8      Laura  13.5        1      no\n",
      "9      Kevin   8.0        2      no\n",
      "10     Jonas  19.0        1     yes\n",
      "[1] \"Extract 3rd and 5th rows with 1st and 3rd columns :\"\n",
      "       name attempts\n",
      "3 Katherine        2\n",
      "5     Emily        2\n",
      "[1] \"After adding new row(s) to an existing data frame:\"\n",
      "        name score attempts qualify\n",
      "1  Anastasia  12.5        1     yes\n",
      "2       Dima   9.0        3      no\n",
      "3  Katherine  16.5        2     yes\n",
      "4      James  12.0        3      no\n",
      "5      Emily   9.0        2      no\n",
      "6    Michael  20.0        3     yes\n",
      "7    Matthew  14.5        1     yes\n",
      "8      Laura  13.5        1      no\n",
      "9      Kevin   8.0        2      no\n",
      "10     Jonas  19.0        1     yes\n",
      "11    Robert  10.5        1     yes\n",
      "12    Sophia   9.0        3      no\n"
     ]
    },
    {
     "data": {
      "text/html": [
       "<table>\n",
       "<thead><tr><th></th><th scope=col>size</th><th scope=col>isdir</th><th scope=col>mode</th><th scope=col>mtime</th><th scope=col>ctime</th><th scope=col>atime</th><th scope=col>exe</th></tr></thead>\n",
       "<tbody>\n",
       "\t<tr><th scope=row>data.rda</th><td>382                </td><td>FALSE              </td><td>666                </td><td>2021-03-11 18:55:15</td><td>2021-03-10 15:11:15</td><td>2021-03-11 18:55:15</td><td>no                 </td></tr>\n",
       "</tbody>\n",
       "</table>\n"
      ],
      "text/latex": [
       "\\begin{tabular}{r|lllllll}\n",
       "  & size & isdir & mode & mtime & ctime & atime & exe\\\\\n",
       "\\hline\n",
       "\tdata.rda & 382                 & FALSE               & 666                 & 2021-03-11 18:55:15 & 2021-03-10 15:11:15 & 2021-03-11 18:55:15 & no                 \\\\\n",
       "\\end{tabular}\n"
      ],
      "text/markdown": [
       "\n",
       "| <!--/--> | size | isdir | mode | mtime | ctime | atime | exe |\n",
       "|---|---|---|---|---|---|---|---|\n",
       "| data.rda | 382                 | FALSE               | 666                 | 2021-03-11 18:55:15 | 2021-03-10 15:11:15 | 2021-03-11 18:55:15 | no                  |\n",
       "\n"
      ],
      "text/plain": [
       "         size isdir mode mtime               ctime              \n",
       "data.rda 382  FALSE 666  2021-03-11 18:55:15 2021-03-10 15:11:15\n",
       "         atime               exe\n",
       "data.rda 2021-03-11 18:55:15 no "
      ]
     },
     "metadata": {},
     "output_type": "display_data"
    }
   ],
   "source": [
    "exam_data = data.frame(\n",
    "name = c('Anastasia', 'Dima', 'Katherine', 'James', 'Emily', 'Michael', 'Matthew', 'Laura', 'Kevin', 'Jonas'),\n",
    "score = c(12.5, 9, 16.5, 12, 9, 20, 14.5, 13.5, 8, 19),\n",
    "attempts = c(1, 3, 2, 3, 2, 3, 1, 1, 2, 1),\n",
    "qualify = c('yes', 'no', 'yes', 'no', 'no', 'yes', 'yes', 'no', 'no', 'yes')\n",
    ")\n",
    "print(\"Original dataframe:\")\n",
    "print(exam_data)\n",
    "print(\"Extract 3rd and 5th rows with 1st and 3rd columns :\")\n",
    "result =  exam_data[c(3,5),c(1,3)]\n",
    "print(result)\n",
    "\n",
    "new_exam_data = data.frame(\n",
    "name = c('Robert', 'Sophia'),\n",
    "score = c(10.5, 9),\n",
    "attempts = c(1, 3),\n",
    "qualify = c('yes', 'no')\n",
    ")\n",
    "exam_data =  rbind(exam_data, new_exam_data)\n",
    "print(\"After adding new row(s) to an existing data frame:\")\n",
    "print(exam_data)\n",
    "\n",
    "save(exam_data,file=\"data.rda\")\n",
    "load(\"data.rda\")\n",
    "file.info(\"data.rda\") "
   ]
  },
  {
   "cell_type": "markdown",
   "metadata": {},
   "source": [
    "15) Escriba un programa para convertir una matriz dada en una lista de vectores columna."
   ]
  },
  {
   "cell_type": "code",
   "execution_count": 23,
   "metadata": {},
   "outputs": [
    {
     "name": "stdout",
     "output_type": "stream",
     "text": [
      "[1] \"Original matrix:\"\n",
      "     [,1] [,2] [,3]\n",
      "[1,]    1    5    9\n",
      "[2,]    2    6   10\n",
      "[3,]    3    7   11\n",
      "[4,]    4    8   12\n",
      "[1] \"list from the said matrix:\"\n",
      "$`1`\n",
      "[1] 1 2 3 4\n",
      "\n",
      "$`2`\n",
      "[1] 5 6 7 8\n",
      "\n",
      "$`3`\n",
      "[1]  9 10 11 12\n",
      "\n"
     ]
    }
   ],
   "source": [
    "x = matrix(1:12, ncol=3)\n",
    "print(\"Original matrix:\")\n",
    "print(x)\n",
    "print(\"list from the said matrix:\")\n",
    "l =  split(x, rep(1:ncol(x), each = nrow(x)))\n",
    "print(l)\n"
   ]
  },
  {
   "cell_type": "markdown",
   "metadata": {},
   "source": [
    "16) Combine dos vectores dados por:\n",
    "\n",
    "a)columnas\n",
    "\n",
    "b)renglones\n",
    "\n"
   ]
  },
  {
   "cell_type": "code",
   "execution_count": 25,
   "metadata": {},
   "outputs": [
    {
     "name": "stdout",
     "output_type": "stream",
     "text": [
      "[1] \"Original vectors:\"\n",
      "[1] 1 3 5 7 9\n",
      "[1]  2  4  6  8 10\n",
      "[1] \"Combines the said two vectors by columns:\"\n",
      "     v1 v2\n",
      "[1,]  1  2\n",
      "[2,]  3  4\n",
      "[3,]  5  6\n",
      "[4,]  7  8\n",
      "[5,]  9 10\n",
      "[1] \"Combines the said two vectors by rows:\"\n",
      "   [,1] [,2] [,3] [,4] [,5]\n",
      "v1    1    3    5    7    9\n",
      "v2    2    4    6    8   10\n"
     ]
    }
   ],
   "source": [
    "v1 = c(1,3,5,7,9)\n",
    "v2 = c(2,4,6,8,10)\n",
    "print(\"Original vectors:\")\n",
    "print(v1)\n",
    "print(v2)\n",
    "print(\"Combines the said two vectors by columns:\")\n",
    "result = cbind(v1,v2)\n",
    "print(result)\n",
    "print(\"Combines the said two vectors by rows:\")\n",
    "result = rbind(v1,v2)\n",
    "print(result)"
   ]
  },
  {
   "cell_type": "markdown",
   "metadata": {},
   "source": [
    "17) Escriba un programa para crea una lista que contenga una secuencia de 15 letras mayusculas comenzando con \"E\"."
   ]
  },
  {
   "cell_type": "code",
   "execution_count": 26,
   "metadata": {},
   "outputs": [
    {
     "name": "stdout",
     "output_type": "stream",
     "text": [
      "[1] \"Content of the list:\"\n",
      "[1] \"Sequence of 15 capital letters, starting from ‘E’-\"\n",
      " [1] \"E\" \"F\" \"G\" \"H\" \"I\" \"J\" \"K\" \"L\" \"M\" \"N\" \"O\" \"P\" \"Q\" \"R\" \"S\" \"T\"\n"
     ]
    }
   ],
   "source": [
    "l = LETTERS[match(\"E\", LETTERS):(match(\"E\", LETTERS)+15)]\n",
    "print(\"Content of the list:\")\n",
    "print(\"Sequence of 15 capital letters, starting from ‘E’-\")\n",
    "print(l)"
   ]
  },
  {
   "cell_type": "markdown",
   "metadata": {},
   "source": [
    "18) Escribe un programa para encontrar los factores de un numero mediante una función"
   ]
  },
  {
   "cell_type": "code",
   "execution_count": 57,
   "metadata": {
    "scrolled": true
   },
   "outputs": [
    {
     "name": "stdout",
     "output_type": "stream",
     "text": [
      "[1] \"The factors of 4 are:\"\n",
      "[1] 1\n",
      "[1] 2\n",
      "[1] 4\n",
      "[1] \"The factors of 7 are:\"\n",
      "[1] 1\n",
      "[1] 7\n",
      "[1] \"The factors of 12 are:\"\n",
      "[1] 1\n",
      "[1] 2\n",
      "[1] 3\n",
      "[1] 4\n",
      "[1] 6\n",
      "[1] 12\n"
     ]
    }
   ],
   "source": [
    "print_factors = function(n) {\n",
    "print(paste(\"The factors of\",n,\"are:\"))\n",
    "for(i in 1:n) {\n",
    "if((n %% i) == 0) {\n",
    "print(i)\n",
    "}\n",
    "}\n",
    "}\n",
    "print_factors(4)\n",
    "print_factors(7)\n",
    "print_factors(12)"
   ]
  },
  {
   "cell_type": "markdown",
   "metadata": {},
   "source": [
    "19) Escribe un programa para imprimir la fecha con y sin la hora"
   ]
  },
  {
   "cell_type": "code",
   "execution_count": 30,
   "metadata": {},
   "outputs": [
    {
     "name": "stdout",
     "output_type": "stream",
     "text": [
      "[1] \"System's idea of the current date with and without time:\"\n",
      "[1] \"2021-03-11\"\n",
      "[1] \"2021-03-11 19:20:44 PST\"\n"
     ]
    }
   ],
   "source": [
    "print(\"System's idea of the current date with and without time:\")\n",
    "print(Sys.Date())\n",
    "print(Sys.time())"
   ]
  },
  {
   "cell_type": "markdown",
   "metadata": {},
   "source": [
    "20) \n",
    "(a) use los datos $\\mathtt{mtcars}$ de R para graficar las millas / galón (EE. UU.) vs. la relación del eje trasero usando *plot(mpg, drat)*. ¿En qué eje aparece el mpg?"
   ]
  },
  {
   "cell_type": "code",
   "execution_count": 1,
   "metadata": {},
   "outputs": [
    {
     "data": {
      "image/png": "[encoded data removed]",
      "text/plain": [
       "plot without title"
      ]
     },
     "metadata": {
      "image/png": {
       "height": 420,
       "width": 420
      }
     },
     "output_type": "display_data"
    }
   ],
   "source": [
    "attach(mtcars)\n"
   ]
  },
  {
   "cell_type": "code",
   "execution_count": null,
   "metadata": {},
   "outputs": [],
   "source": [
    "help(mtcars)"
   ]
  },
  {
   "cell_type": "code",
   "execution_count": 4,
   "metadata": {},
   "outputs": [],
   "source": [
    "plot(mpg,drat)"
   ]
  }
 ],
 "metadata": {
  "celltoolbar": "Slideshow",
  "kernelspec": {
   "display_name": "R",
   "language": "R",
   "name": "ir"
  },
  "language_info": {
   "codemirror_mode": "r",
   "file_extension": ".r",
   "mimetype": "text/x-r-source",
   "name": "R",
   "pygments_lexer": "r",
   "version": "4.2.0"
  }
 },
 "nbformat": 4,
 "nbformat_minor": 2
}
